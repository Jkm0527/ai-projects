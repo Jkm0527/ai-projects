{
 "cells": [
  {
   "cell_type": "code",
   "execution_count": 1,
   "id": "f4fbabeb-38a8-46ea-aa50-3b7cb9706ad7",
   "metadata": {},
   "outputs": [
    {
     "name": "stdout",
     "output_type": "stream",
     "text": [
      "cross-validation scores on training data: 0.9759463087248322\n",
      "Accuracy on test data : 0.9574468085106383\n"
     ]
    }
   ],
   "source": [
    "import pandas as pd\n",
    "import sklearn\n",
    "import openpyxl\n",
    "from sklearn.model_selection import cross_val_score\n",
    "df = pd.read_excel(\"C:/Users/jackm/Downloads/nfl-qb-passing-stats.xlsx\", sheet_name=\"sheet1\")\n",
    "features = [\"G\",\"Cmp\",\"Att\",\"Cmp%\",\"Yds\",\"TD\",\"TD%\",\"Int\",\"Int%\",\"1D\",\"Succ%\",\"Y/A\",\"AY/A\",\"Y/C\",\"Y/G\",\"Rate\",\"QBR\",\"Sk\",\"SkYds\",\"Sk%\",\"NY/A\",\"ANY/A\",\"4QC\"]\n",
    "X=df[features]\n",
    "y=df[\"MVP\"]\n",
    "from sklearn.model_selection import train_test_split\n",
    "X_train, X_val, y_train, y_val = train_test_split(X,y,test_size=0.2,random_state=1)\n",
    "from sklearn.ensemble import RandomForestClassifier\n",
    "model = RandomForestClassifier()\n",
    "scores=cross_val_score(model,X_train,y_train,cv=5,scoring=\"accuracy\")\n",
    "print(\"cross-validation scores on training data:\",scores.mean())\n",
    "model.fit(X_train,y_train)\n",
    "\n",
    "test_accuracy=model.score(X_val,y_val)\n",
    "print(\"Accuracy on test data :\",test_accuracy)"
   ]
  },
  {
   "cell_type": "code",
   "execution_count": 2,
   "id": "67c7c2d4-ae4f-44fe-9991-74ff19dc96a5",
   "metadata": {},
   "outputs": [
    {
     "name": "stderr",
     "output_type": "stream",
     "text": [
      "C:\\Users\\jackm\\anaconda3\\Lib\\site-packages\\xgboost\\training.py:183: UserWarning: [12:09:07] WARNING: C:\\actions-runner\\_work\\xgboost\\xgboost\\src\\learner.cc:738: \n",
      "Parameters: { \"eval_metrics\", \"use_label_encoder\" } are not used.\n",
      "\n",
      "  bst.update(dtrain, iteration=i, fobj=obj)\n",
      "C:\\Users\\jackm\\anaconda3\\Lib\\site-packages\\xgboost\\training.py:183: UserWarning: [12:09:07] WARNING: C:\\actions-runner\\_work\\xgboost\\xgboost\\src\\learner.cc:738: \n",
      "Parameters: { \"eval_metrics\", \"use_label_encoder\" } are not used.\n",
      "\n",
      "  bst.update(dtrain, iteration=i, fobj=obj)\n",
      "C:\\Users\\jackm\\anaconda3\\Lib\\site-packages\\xgboost\\training.py:183: UserWarning: [12:09:07] WARNING: C:\\actions-runner\\_work\\xgboost\\xgboost\\src\\learner.cc:738: \n",
      "Parameters: { \"eval_metrics\", \"use_label_encoder\" } are not used.\n",
      "\n",
      "  bst.update(dtrain, iteration=i, fobj=obj)\n",
      "C:\\Users\\jackm\\anaconda3\\Lib\\site-packages\\xgboost\\training.py:183: UserWarning: [12:09:07] WARNING: C:\\actions-runner\\_work\\xgboost\\xgboost\\src\\learner.cc:738: \n",
      "Parameters: { \"eval_metrics\", \"use_label_encoder\" } are not used.\n",
      "\n",
      "  bst.update(dtrain, iteration=i, fobj=obj)\n",
      "C:\\Users\\jackm\\anaconda3\\Lib\\site-packages\\xgboost\\training.py:183: UserWarning: [12:09:07] WARNING: C:\\actions-runner\\_work\\xgboost\\xgboost\\src\\learner.cc:738: \n",
      "Parameters: { \"eval_metrics\", \"use_label_encoder\" } are not used.\n",
      "\n",
      "  bst.update(dtrain, iteration=i, fobj=obj)\n",
      "C:\\Users\\jackm\\anaconda3\\Lib\\site-packages\\xgboost\\training.py:183: UserWarning: [12:09:07] WARNING: C:\\actions-runner\\_work\\xgboost\\xgboost\\src\\learner.cc:738: \n",
      "Parameters: { \"eval_metrics\", \"use_label_encoder\" } are not used.\n",
      "\n",
      "  bst.update(dtrain, iteration=i, fobj=obj)\n"
     ]
    },
    {
     "name": "stdout",
     "output_type": "stream",
     "text": [
      "cross-validation scores on training data: 0.9772796420581656\n",
      "Accuracy on test data : 0.9521276595744681\n"
     ]
    }
   ],
   "source": [
    "import pandas as pd\n",
    "import sklearn\n",
    "import openpyxl\n",
    "from sklearn.model_selection import cross_val_score\n",
    "df = pd.read_excel(\"C:/Users/jackm/Downloads/nfl-qb-passing-stats.xlsx\", sheet_name=\"sheet1\")\n",
    "features = [\"G\",\"Cmp\",\"Att\",\"Cmp%\",\"Yds\",\"TD\",\"TD%\",\"Int\",\"Int%\",\"1D\",\"Succ%\",\"Y/A\",\"AY/A\",\"Y/C\",\"Y/G\",\"Rate\",\"QBR\",\"Sk\",\"SkYds\",\"Sk%\",\"NY/A\",\"ANY/A\",\"4QC\"]\n",
    "X=df[features]\n",
    "y=df[\"MVP\"]\n",
    "from sklearn.model_selection import train_test_split\n",
    "X_train, X_val, y_train, y_val = train_test_split(X,y,test_size=0.2,random_state=1)\n",
    "from xgboost import XGBClassifier\n",
    "model=XGBClassifier(use_label_encoder=False,eval_metrics=\"logloss\",random_state=1)\n",
    "scores=cross_val_score(model,X_train,y_train,cv=5,scoring=\"accuracy\")\n",
    "print(\"cross-validation scores on training data:\",scores.mean())\n",
    "model.fit(X_train,y_train)\n",
    "\n",
    "test_accuracy=model.score(X_val,y_val)\n",
    "print(\"Accuracy on test data :\",test_accuracy)"
   ]
  }
 ],
 "metadata": {
  "kernelspec": {
   "display_name": "Python 3 (ipykernel)",
   "language": "python",
   "name": "python3"
  },
  "language_info": {
   "codemirror_mode": {
    "name": "ipython",
    "version": 3
   },
   "file_extension": ".py",
   "mimetype": "text/x-python",
   "name": "python",
   "nbconvert_exporter": "python",
   "pygments_lexer": "ipython3",
   "version": "3.13.5"
  }
 },
 "nbformat": 4,
 "nbformat_minor": 5
}
